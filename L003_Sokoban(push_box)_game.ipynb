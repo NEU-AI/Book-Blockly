{
 "cells": [
  {
   "cell_type": "markdown",
   "metadata": {},
   "source": [
    "# 推箱子游戏\n",
    "\n",
    "![](./picture/L003_box_1.png)\n",
    "\n",
    "## 游戏规则\n",
    "\n",
    "经典的推箱子是一个来自日本的古老游戏，目的是在训练你的逻辑思考能力。在一个狭小的仓库中，要求把木箱放到指定的位置，稍不小心就会出现箱子无法移动或者通道被堵住的情况，所以需要巧妙的利用有限的空间和通道，合理安排移动的次序和位置，才能顺利的完成任务。"
   ]
  },
  {
   "cell_type": "markdown",
   "metadata": {},
   "source": [
    "## 游戏设计思路\n",
    "\n",
    "* 界面规划，什么位置画什么内容。\n",
    "* 规划图标坐标信息\n",
    "* 墙壁绘制\n",
    "    * 在屏幕上绘制1个图标\n",
    "    * 逐个绘制法在屏幕上绘制所有墙壁\n",
    "    * 矩阵法绘制\n",
    "* 绘制箱子\n",
    "    * 在特定坐标位置绘制箱子图标\n",
    "    * 绘制目标位置图标\n",
    "    * 绘制小人图标\n",
    "* 人机交互,移动图标\n",
    "    * 思考移动图标方法\n",
    "    * 移动小人\n",
    "        * 按键交互\n",
    "        * 移动后带来的问题，图标清除\n",
    "    * 如何限制移动范围\n",
    "    * 如何推动箱子\n",
    "    * 如何限制箱子移动范围\n",
    "* 胜负判定\n",
    "    * 根据箱子位置和目标位置判断胜负\n"
   ]
  },
  {
   "cell_type": "markdown",
   "metadata": {},
   "source": [
    "# 游戏设计与实现\n",
    "\n",
    "## 界面规划\n",
    "\n",
    "\n",
    "|z|0|1|2|3|4|5|6|7|\n",
    "|--|--|--|--|--|--|--|--|--|\n",
    "|0|.|.|W|W|W|W|.|.|\n",
    "|1|.|.|W|%|%|W|.|.|\n",
    "|2|.|W|W|.|%|W|W|.|\n",
    "|3|.|W|.|.|B|%|W|.|\n",
    "|4|W|W|.|B|.|.|W|W|\n",
    "|5|W|.|.|W|B|B|.|W|\n",
    "|6|W|.|.|P|.|.|.|W|\n",
    "|7|W|W|W|W|W|W|W|W|"
   ]
  },
  {
   "cell_type": "markdown",
   "metadata": {},
   "source": [
    "这里需要有个规划，游戏空间是8x8的图标空间。而屏幕大小是320x240像素。这样每个图标最大尺寸为240/8=30，这样屏幕可以显示10x8个图标。"
   ]
  },
  {
   "cell_type": "markdown",
   "metadata": {},
   "source": [
    "## 获取图标\n",
    "\n",
    "### 图标下载\n",
    "\n",
    "https://www.iconfont.cn/search/index?q=box&page=5 \n",
    "\n",
    "https://www.iconfont.cn/search/index?q=wall\n",
    "\n",
    "https://www.iconfont.cn/search/index?q=star\n",
    "\n",
    "### 图标尺寸修改\n",
    "\n",
    "https://www.gaitubao.com/\n",
    "\n",
    "|像素|箱子|小人|星星|墙体|\n",
    "|--|--|--|--|--|\n",
    "|16x16|![](./icon/L003_BOX_16X6.png)|![](./icon/L003_BOY_16X6.png)|![](./icon/L003_STAR_16X6.png)|![](./icon/L003_WALL_16X6.png)|\n",
    "\n",
    "### 图标格式变换\n",
    "\n",
    "![](./picture/l003_icon_convert.png)\n",
    "\n",
    "**格式转换工具**会在图标所在文件夹下创建1个没有后缀的新文件，此文件需下载到skids板上。"
   ]
  },
  {
   "cell_type": "markdown",
   "metadata": {},
   "source": [
    "## 图标显示\n",
    "\n",
    "利用Blockly实现图标显示。\n",
    "![](./picture/L003_blockly_dbitmap.png)"
   ]
  },
  {
   "cell_type": "markdown",
   "metadata": {},
   "source": [
    "显示效果如下：\n",
    "![](./picture/l003_box_draw_icon.png)\n",
    "\n",
    "其中需要修里面代码如下：\n",
    "```python\n",
    "import ubitmap\n",
    "\n",
    "\n",
    "wall = ubitmap.BitmapFromFile('L003_WALL_16X6');\n",
    "wall.draw(0,0);\n",
    "```"
   ]
  },
  {
   "cell_type": "markdown",
   "metadata": {},
   "source": [
    "## 用循环逻辑模块实现全屏显示\n",
    "\n"
   ]
  }
 ],
 "metadata": {
  "kernelspec": {
   "display_name": "Python 3",
   "language": "python",
   "name": "python3"
  },
  "language_info": {
   "codemirror_mode": {
    "name": "ipython",
    "version": 3
   },
   "file_extension": ".py",
   "mimetype": "text/x-python",
   "name": "python",
   "nbconvert_exporter": "python",
   "pygments_lexer": "ipython3",
   "version": "3.7.0"
  },
  "toc": {
   "base_numbering": 1,
   "nav_menu": {},
   "number_sections": true,
   "sideBar": true,
   "skip_h1_title": false,
   "title_cell": "Table of Contents",
   "title_sidebar": "Contents",
   "toc_cell": false,
   "toc_position": {},
   "toc_section_display": true,
   "toc_window_display": false
  }
 },
 "nbformat": 4,
 "nbformat_minor": 2
}
