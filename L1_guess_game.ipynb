{
 "cells": [
  {
   "cell_type": "markdown",
   "metadata": {},
   "source": [
    "# 猜拳游戏\n",
    "\n",
    "\n",
    "## 游戏规则\n",
    "\n",
    ">有剪刀、石头、布三个手势。二人同时用手做出相应形状而出，输赢判断规则为：剪刀赢布，布赢石头，石头赢剪刀。\n",
    "\n",
    "基于skids开发猜拳游戏：人机对战。\n",
    "\n",
    "玩家输入：skids上的4个按键：S1-石头/右移，S2-剪刀/下移动，S3-布/左移，S4确认/上移\n",
    "\n",
    "游戏结果：LCD屏幕输出文字或图案\n"
   ]
  },
  {
   "cell_type": "markdown",
   "metadata": {},
   "source": [
    "## 设计思路\n",
    "\n",
    "游戏设计上可拆分为几个部分：\n",
    "* 显示-图案或文字的显示，用于输出游戏结果或提醒；\n",
    "* 输入-按键输入用户的选择；\n",
    "* 逻辑-判断游戏的胜负\n",
    "\n",
    "实现上我们计划由简至繁来完成，先完成一个具备游戏功能的框架，然后在进行逐步完善。"
   ]
  },
  {
   "cell_type": "markdown",
   "metadata": {},
   "source": [
    "# 简易版猜拳游戏\n",
    "\n",
    "为了实现上的简单，我们先不支持显示功能，只使用终端输出进行游戏设计。终端输出实际上就是软件调试中最常用的方法，最经典的hello world就是在终端显示的。\n",
    "\n",
    "简易版的思路是：\n",
    "\n",
    "* 用输出代替屏幕\n",
    "* 随机数对应石头、剪刀、布\n",
    "* 实现按键输入对应石头、剪刀、布\n",
    "* 实现胜负逻辑判断"
   ]
  },
  {
   "cell_type": "markdown",
   "metadata": {},
   "source": [
    "## 输出代替屏幕\n",
    "\n",
    "\n",
    "输入可以通过blockly输入，也可以直接在命令行输入。blockly中选择\"文本\"->\"输出\":\n",
    "\n",
    "![](./picture/L001_hello_world.png)\n",
    "\n",
    "在uPyCraft工具中找到PC识别到Skids的串口进行选择，正常情况下uPyCraft左侧device中会有文件`boot.py`被识别到。把blockly中生成的代码复制到boot.py文件中，下载并执行。\n",
    "\n",
    "![](./picture/L001_uPyCraft.png)"
   ]
  },
  {
   "cell_type": "markdown",
   "metadata": {},
   "source": [
    "这里也可以是命令行直接输入，在上图最下方\">>>\"位置输入："
   ]
  },
  {
   "cell_type": "code",
   "execution_count": 1,
   "metadata": {},
   "outputs": [
    {
     "name": "stdout",
     "output_type": "stream",
     "text": [
      "hello world\n"
     ]
    }
   ],
   "source": [
    "print('hello world')"
   ]
  },
  {
   "cell_type": "markdown",
   "metadata": {},
   "source": [
    "尝试中文输出：大家好，我是skids。"
   ]
  },
  {
   "cell_type": "code",
   "execution_count": 2,
   "metadata": {},
   "outputs": [
    {
     "name": "stdout",
     "output_type": "stream",
     "text": [
      "大家好，我是skids\n"
     ]
    }
   ],
   "source": [
    "print('大家好，我是skids')"
   ]
  },
  {
   "cell_type": "markdown",
   "metadata": {},
   "source": [
    "在这里我们会发现，命令行中段不能输入中文，但是可以在文件编辑中输入，并从终端打印出来。这是因为命令输入中对中文没有支持。\n",
    "\n",
    "注意：这里要用到uPyCraft"
   ]
  },
  {
   "cell_type": "markdown",
   "metadata": {},
   "source": [
    "同样的方法，我们实现游戏开机内容打印：\n",
    "\n",
    "````\n",
    "猜拳游戏\n",
    "\n",
    "S1-石头  S2-剪刀\n",
    "S3-布   S4确认\n",
    "```\n",
    "\n",
    "//TODO\n",
    "\n"
   ]
  },
  {
   "cell_type": "markdown",
   "metadata": {},
   "source": [
    "![](./picture/L001_start_no_lcd.png)"
   ]
  },
  {
   "cell_type": "markdown",
   "metadata": {},
   "source": [
    "## 随机数\n",
    "\n",
    "### 生成随机数\n",
    "\n",
    "Skids代表的另外一方要模拟对手完成游戏，那么就需要能够随机的输出：石头、剪刀、布。比较简单的想法是用随机出现的1，2，3代表。我们使用`数学`中的`随机数`模块来产生随机数，并用`输出`进行打印。\n",
    "\n",
    "![](./picture/L001_random.png)"
   ]
  },
  {
   "cell_type": "code",
   "execution_count": null,
   "metadata": {},
   "outputs": [],
   "source": [
    "import random\n",
    "\n",
    "print('猜拳游戏')\n",
    "print('S1-石头 S2-剪刀')\n",
    "print('S3-布   S4-确认')\n",
    "print(random.randint(1, 3))"
   ]
  },
  {
   "cell_type": "markdown",
   "metadata": {},
   "source": [
    "这里出现了`import random`语句，其功能是**导入**random模块，以便可以使用random的一些功能。我们可以多执行几次来验证是否能随机的输出1，2，3。方法是在uPyCraft中device下的boo.py上右键选择`run`完成执行。"
   ]
  },
  {
   "cell_type": "markdown",
   "metadata": {},
   "source": [
    "当然为了更方便的测试，我们会想到能不能让最后的语句`print(random.randint(1, 3))`不断的执行？\n",
    "\n",
    "为实现这个目的，可使用循环执行的功能。这个功能在逻辑中可找到，`逻辑->重复 满足条件`，然后把上面的随机数输出放到重复里面。当然我们希望的是程序能不停的输出随机数，我们来简单的判断结果是否是随机的。"
   ]
  },
  {
   "cell_type": "markdown",
   "metadata": {},
   "source": [
    "结果...有点悲剧，我们的uPycraft死机了。原因是输出的太快了。如何解决这个问题呢？\n",
    "\n",
    "是不是可以等一会儿执行一次，例如1秒钟执行一次呢？这个方法是正确的，在程序设计尤其是单片机设计中延时是非常常见的。Blockly中的延时也是在逻辑中的。\n",
    "\n",
    "死机问题怎么解决？可能需要使用任务管理器关掉uPycraft，然后重新启动此软件。重新打开后程序修改程序：\n",
    "![](./picture/L001_random_test.png)"
   ]
  },
  {
   "cell_type": "code",
   "execution_count": 1,
   "metadata": {},
   "outputs": [
    {
     "ename": "ModuleNotFoundError",
     "evalue": "No module named 'utime'",
     "output_type": "error",
     "traceback": [
      "\u001b[1;31m---------------------------------------------------------------------------\u001b[0m",
      "\u001b[1;31mModuleNotFoundError\u001b[0m                       Traceback (most recent call last)",
      "\u001b[1;32m<ipython-input-1-cf32ad45bab1>\u001b[0m in \u001b[0;36m<module>\u001b[1;34m()\u001b[0m\n\u001b[0;32m      1\u001b[0m \u001b[1;32mimport\u001b[0m \u001b[0mrandom\u001b[0m\u001b[1;33m\u001b[0m\u001b[0m\n\u001b[1;32m----> 2\u001b[1;33m \u001b[1;32mimport\u001b[0m \u001b[0mutime\u001b[0m\u001b[1;33m\u001b[0m\u001b[0m\n\u001b[0m\u001b[0;32m      3\u001b[0m \u001b[1;33m\u001b[0m\u001b[0m\n\u001b[0;32m      4\u001b[0m \u001b[1;32mwhile\u001b[0m \u001b[1;32mTrue\u001b[0m\u001b[1;33m:\u001b[0m\u001b[1;33m\u001b[0m\u001b[0m\n\u001b[0;32m      5\u001b[0m   \u001b[0mprint\u001b[0m\u001b[1;33m(\u001b[0m\u001b[0mrandom\u001b[0m\u001b[1;33m.\u001b[0m\u001b[0mrandint\u001b[0m\u001b[1;33m(\u001b[0m\u001b[1;36m1\u001b[0m\u001b[1;33m,\u001b[0m \u001b[1;36m3\u001b[0m\u001b[1;33m)\u001b[0m\u001b[1;33m)\u001b[0m\u001b[1;33m\u001b[0m\u001b[0m\n",
      "\u001b[1;31mModuleNotFoundError\u001b[0m: No module named 'utime'"
     ]
    }
   ],
   "source": [
    "import random\n",
    "import utime\n",
    "\n",
    "# 启动输出语句省略\n",
    "\n",
    "while True:\n",
    "  print(random.randint(1, 3))\n",
    "  utime.sleep_ms(1000);"
   ]
  },
  {
   "cell_type": "markdown",
   "metadata": {},
   "source": [
    "这里导入了新的库`utime`这个是与时间相关的。并且出现了`while True:`，正是这个语句完成了重复循环功能，其执行结果是条件为True就一直执行后面的2条语句。这里我们发现后面要执行的两条语句有缩进，并且True后面有个`:`，这是python语言的语法规则，在循环语句后面需要加冒号，需要循环执行的部分需要缩进。程序执行的时候就根据缩进和冒号来识别不同功能的，还有utime和random后面的`.`有指向和选择的含义，如`utime.sleep_ms`表示调用utime.py文件中的`sleepms`函数。"
   ]
  },
  {
   "cell_type": "markdown",
   "metadata": {},
   "source": [
    "### 根据随机数输出石头剪刀布\n",
    "\n",
    "上面能不断产生随机树并且打印输出了，但是打印输出的是数字，如何把这些数字和`石头`，`剪刀`，`布`对用起来呢？我们可以先描述这样一段话：\n",
    "\n",
    "* 如果随机数是1输出\"石头\" \n",
    "* 如果随机数是2输出\"剪刀\" \n",
    "* 如果随机数是3输出\"布\" \n",
    "\n",
    "这里可对上面的话进行逻辑拆分为：“如果” +  “随机数是1”条件成立 + 那么执行“输出\"石头\" ”\n",
    "\n",
    "最后的：输出\"石头\"，我们上面已经学习过了。\n",
    "\n",
    "`如果`和`条件成立`我们同样可以在`逻辑`模块组中找到对应的模块，分别是：`逻辑->如果+执行`和`逻辑->相等`\n",
    "\n",
    "从模块到语句过程如下:\n",
    "![](./picture/L001_if_study.png)\n",
    "图片中的`1`是从`数学`中的`0`改过来的。\n",
    "\n",
    "如上，自己添加输出积木完成`石头输出`。"
   ]
  },
  {
   "cell_type": "code",
   "execution_count": 4,
   "metadata": {},
   "outputs": [
    {
     "name": "stdout",
     "output_type": "stream",
     "text": [
      "石头\n"
     ]
    }
   ],
   "source": [
    "if random.randint(1, 3) == 1:\n",
    "  print('石头')"
   ]
  },
  {
   "cell_type": "markdown",
   "metadata": {},
   "source": [
    "这里的`if`和上面的`while`类似都属于python语言的关键字，当然在其他语言中也有这两个关键字。if与while不同的是，if是判断，while是循环。if后面判断的是一个逻辑结果为真还是为假，为真则执行if后面缩进部分的代码。同样if语句后面需要`:`冒号。"
   ]
  },
  {
   "cell_type": "markdown",
   "metadata": {},
   "source": [
    "当我们尝试继续进行比较时发现需要再次调用`random.randin`，而此时的值又是一个新的随机值。我们是否能把`random.randin`的值保存起来，用这个值和1，2，3进行比较呢？\n",
    "答案是肯定的，程序中这种可以动态存储一个数值的叫做变量（可以变化的量），我们可以在blockly中找到`变量->赋值为`模块，把这个模块和随机数产生模块进行拼组就可以把随机数的结果赋值给变量的，每个变量有需要有一个唯一的名字便于使用时进行区分，就像每个学生都有的一个学号一样。这里我们给变量命名为value\n",
    "\n",
    "![](./picture/L001_variable.png)\n",
    "\n",
    "对应代码为："
   ]
  },
  {
   "cell_type": "code",
   "execution_count": 5,
   "metadata": {},
   "outputs": [],
   "source": [
    "value = random.randint(1, 3)"
   ]
  },
  {
   "cell_type": "markdown",
   "metadata": {},
   "source": [
    "定义过之后就可以在`变量`组中找到value并拖放使用了。\n",
    "\n",
    "请尝试用value变量完成判断并打印`石头`。这里实际上有一个原则，那就是变量需要先定义后使用。\n",
    "\n",
    "对应代码为："
   ]
  },
  {
   "cell_type": "code",
   "execution_count": null,
   "metadata": {},
   "outputs": [],
   "source": [
    "value = random.randint(1, 3)\n",
    "if value == 1:\n",
    "  print('石头')"
   ]
  },
  {
   "cell_type": "markdown",
   "metadata": {},
   "source": [
    "### 尝试完成剪刀和布的判断并打印\n",
    "\n",
    "翻转完成，可把这部分放入`重复`里进行循环执行。"
   ]
  },
  {
   "cell_type": "code",
   "execution_count": 6,
   "metadata": {},
   "outputs": [
    {
     "name": "stdout",
     "output_type": "stream",
     "text": [
      "剪刀\n"
     ]
    }
   ],
   "source": [
    "if value == 2:\n",
    "  print('剪刀')\n",
    "if value == 3:\n",
    "  print('布')"
   ]
  },
  {
   "cell_type": "markdown",
   "metadata": {},
   "source": [
    "完整代码：\n",
    "``` python\n",
    "import random\n",
    "import utime\n",
    "\n",
    "# 启动输出语句省略\n",
    "\n",
    "while True:\n",
    "  value = random.randint(1, 3)\n",
    "  if value == 1:\n",
    "    print('石头')\n",
    "  if value == 2:\n",
    "    print('剪刀')\n",
    "  if value == 3:\n",
    "    print('布')\n",
    "  utime.sleep_ms(1000);\n",
    "```"
   ]
  },
  {
   "cell_type": "markdown",
   "metadata": {},
   "source": [
    "## 按键输入\n",
    "\n",
    "### 按键原理图"
   ]
  },
  {
   "cell_type": "markdown",
   "metadata": {},
   "source": [
    "按键是我们可以和程序进行交互的一种接口，就像是灯泡的开关一样，打开就亮，关闭就灭。按键传给程序的正是这个开关的变化。为了能够使用开关，我们需要先查看一下电路原理图，好弄明白开关与灯泡的关系。\n",
    "\n",
    "![](./picture/L001_key_sch.png)\n",
    "\n",
    "![](./PICTURE/L001_key_sch2.png)"
   ]
  },
  {
   "cell_type": "markdown",
   "metadata": {},
   "source": [
    "### 按键创建与识别\n",
    "\n",
    "上面原理图可以看到按键用到的引脚号分别是I34,35,36,39。并且引脚号与按键对应关系为\n",
    "\n",
    "* S1 = KEY1 = I36\n",
    "* S2 = KEY2 = I39\n",
    "* S3 = KEY3 = I34\n",
    "* S4 = KEY4 = I35\n",
    "\n",
    "要想知道按键是否被按下需要用到Blockly中`Skdis`中`引脚`块组中的：\n",
    "* 创建PIN对象\n",
    "* 获取引脚电平\n",
    "\n",
    "因为电路原理图中已经又从按键接了电阻到VCC，所以不需要上下拉。现在我们创建1个按键并把结果打印出来。\n",
    "![](./picture/L001_key1_read.png)"
   ]
  },
  {
   "cell_type": "code",
   "execution_count": null,
   "metadata": {},
   "outputs": [],
   "source": [
    "from machine import Pin\n",
    "import utime\n",
    "\n",
    "\n",
    "S1 = Pin(36,Pin.IN);\n",
    "key_value = S1.value();\n",
    "\n",
    "print(key_value)"
   ]
  },
  {
   "cell_type": "markdown",
   "metadata": {},
   "source": [
    "对应的代码如上，这里出现了`from machine import Pin`代码，这是从`machine`文件或文件夹中`Pin`文件或类。上面的代码要想检测到按键的是否变化必须重复执行才可以。请尝试使用`逻辑`中的重复执行对上述慕课进行修改，实现按键状态的打印，注意需要做延时，不然仍会想随机数中那样不断打印的。完成后代码如下："
   ]
  },
  {
   "cell_type": "code",
   "execution_count": null,
   "metadata": {},
   "outputs": [],
   "source": [
    "from machine import Pin\n",
    "import utime\n",
    "\n",
    "\n",
    "S1 = Pin(36,Pin.IN);\n",
    "while True:\n",
    "  key_value = S1.value();\n",
    "\n",
    "  print(key_value)\n",
    "  utime.sleep_ms(1000);"
   ]
  },
  {
   "cell_type": "markdown",
   "metadata": {},
   "source": [
    "### 按键结果判断\n",
    "\n",
    "如果按键被按下那么可以认为，输入了石头、剪刀、布中的一个。这里把按键把结果打印出来，同时如果按键状态为按下，即输入结果为零则打印`石头`。根据上面的代码测试，我们可以知道按下按下时key_value结果为0，没有按时结果为1。\n",
    "\n",
    "![](./picture/L001_key1_read_and_check.png)"
   ]
  },
  {
   "cell_type": "code",
   "execution_count": 7,
   "metadata": {},
   "outputs": [
    {
     "ename": "ModuleNotFoundError",
     "evalue": "No module named 'machine'",
     "output_type": "error",
     "traceback": [
      "\u001b[1;31m---------------------------------------------------------------------------\u001b[0m",
      "\u001b[1;31mModuleNotFoundError\u001b[0m                       Traceback (most recent call last)",
      "\u001b[1;32m<ipython-input-7-e4e55f5824d5>\u001b[0m in \u001b[0;36m<module>\u001b[1;34m()\u001b[0m\n\u001b[1;32m----> 1\u001b[1;33m \u001b[1;32mfrom\u001b[0m \u001b[0mmachine\u001b[0m \u001b[1;32mimport\u001b[0m \u001b[0mPin\u001b[0m\u001b[1;33m\u001b[0m\u001b[0m\n\u001b[0m\u001b[0;32m      2\u001b[0m \u001b[1;32mimport\u001b[0m \u001b[0mutime\u001b[0m\u001b[1;33m\u001b[0m\u001b[0m\n\u001b[0;32m      3\u001b[0m \u001b[1;33m\u001b[0m\u001b[0m\n\u001b[0;32m      4\u001b[0m \u001b[1;33m\u001b[0m\u001b[0m\n\u001b[0;32m      5\u001b[0m \u001b[0mS1\u001b[0m \u001b[1;33m=\u001b[0m \u001b[0mPin\u001b[0m\u001b[1;33m(\u001b[0m\u001b[1;36m36\u001b[0m\u001b[1;33m,\u001b[0m\u001b[0mPin\u001b[0m\u001b[1;33m.\u001b[0m\u001b[0mIN\u001b[0m\u001b[1;33m)\u001b[0m\u001b[1;33m;\u001b[0m\u001b[1;33m\u001b[0m\u001b[0m\n",
      "\u001b[1;31mModuleNotFoundError\u001b[0m: No module named 'machine'"
     ]
    }
   ],
   "source": [
    "from machine import Pin\n",
    "import utime\n",
    "\n",
    "\n",
    "S1 = Pin(36,Pin.IN);\n",
    "while True:\n",
    "  key_value = S1.value();\n",
    "\n",
    "  print(key_value)\n",
    "  utime.sleep_ms(1000);\n",
    "  if key_value == 0:\n",
    "    print('石头')\n"
   ]
  },
  {
   "cell_type": "markdown",
   "metadata": {},
   "source": [
    "### 尝试识别其他按键并打印相应结果\n",
    "\n",
    "几个步骤：\n",
    "1. 创建按键\n",
    "2. 循环中增加其他按键读入和对应的按键结果变量\n",
    "3. 判断按键结果为0时打印输出‘石头’，‘剪刀’，‘布’"
   ]
  },
  {
   "cell_type": "markdown",
   "metadata": {},
   "source": [
    "**参考：**\n",
    "\n",
    "![](./picture/L001_3key_read_and_check.png)\n"
   ]
  },
  {
   "cell_type": "markdown",
   "metadata": {},
   "source": [
    "### 用数字代替按键结果\n",
    "\n",
    "\n",
    "打印处输入的是什么不是最终目的，最终目的是为了知道按键结果是什么然后与随机数进行对比的。那么按键结果要么是S1~S4中的一个，要么就是没有按按键，我们可以用数字1，2，3，4对应4个按键，0对应没有按键。这样我们也需要一个新的变量进行存储当前的按键值，只需要在进行输出的时候把按键的编号赋值给一个新的变量即可。\n",
    "\n",
    "![](./picture/L001_key_read_and_check2.png)\n",
    "这里的0，1，2，3，4在程序执行过程中是不会发生变化的，程序中叫做常量，与会变化的变量相对应。代码段\n",
    "\n",
    "``` python\n",
    "from machine import Pin\n",
    "import utime\n",
    "\n",
    "S1 = Pin(36,Pin.IN);\n",
    "S2 = Pin(39,Pin.IN);\n",
    "S3 = Pin(34,Pin.IN);\n",
    "while True:\n",
    "  key_value = 0\n",
    "  key_tmp = S1.value();\n",
    "\n",
    "  if key_tmp == 0:\n",
    "    print('石头')\n",
    "    key_value = 1\n",
    "  # S2,S3省略\n",
    "\n",
    "  print(key_value)\n",
    "  utime.sleep_ms(1000);\n",
    "\n",
    "```"
   ]
  },
  {
   "cell_type": "markdown",
   "metadata": {},
   "source": [
    "## 随机数与按键同时打印\n",
    "\n",
    "上面我们分别完成了随机数的产生和按键的获取，并可以把相应结果赋值给变量或打印输出。那么现在我们来把两部分内容进行合并，并在有按键按下时打印按键和随机数的值。\n",
    "\n",
    "整合时最简单的方法是在有按键输入时产生一个随机值进行打印。\n",
    "![](./picture/L001_key_read_and_check_and_random.png)"
   ]
  },
  {
   "cell_type": "markdown",
   "metadata": {},
   "source": [
    "## 胜负判断逻辑\n",
    "\n",
    "胜负分三种结果：胜、负、平。\n",
    "\n",
    "每个人的输入只有三种情况，即3个值：1，2，3。那么最简单的我们可以枚举各种情况：\n",
    "\n",
    "|人/按键|机/随机值|比赛结果|\n",
    "|--|--|--|\n",
    "|1|1|平|\n",
    "|1|2|负|\n",
    "|1|3|胜|\n",
    "|2|1|胜|\n",
    "|2|2|平|\n",
    "|2|3|负|\n",
    "|3|1|负|\n",
    "|3|2|胜|\n",
    "|3|3|平|\n"
   ]
  },
  {
   "cell_type": "markdown",
   "metadata": {},
   "source": [
    "### 条件语句判胜负\n",
    "\n",
    "我们只需要判断按键结果和随机数的值是什么然后根据上面的表打印结果即可。与之前用的条件语句不同的是这里的条件需要比较2组值的结果。这里需要用到逻辑运算中的与/且。如上表第一行可描述为：按键输入等于1且随机数也等于1时为平，这里我们使用if关键字写一行伪代码：\n",
    "\n",
    "if 按键==1 且 随机数==1\n",
    "    输出：平\n",
    "\n",
    "这里的且就是blockly中`逻辑`组中的`且`\n",
    "\n",
    "组合结果如下：\n",
    "![](./picture/L001_game_result_1.png)\n"
   ]
  },
  {
   "cell_type": "markdown",
   "metadata": {},
   "source": [
    "用同样的方法完成其他情况的判定\n",
    "//todo"
   ]
  },
  {
   "cell_type": "markdown",
   "metadata": {},
   "source": [
    "## 完成\n",
    "\n",
    "至此一个十分简易的猜拳游戏机已经完成，但是里面还有不少问题：\n",
    "1. 没有屏幕，智能通过观察终端结果进行交互\n",
    "2. 按键不灵敏，这个可以修改延时时间进行改善，但是会带来一个问题，按键按下时会不断输出比赛结果，相当于按下按下后就不断循环比赛\n"
   ]
  }
 ],
 "metadata": {
  "kernelspec": {
   "display_name": "Python 3",
   "language": "python",
   "name": "python3"
  },
  "language_info": {
   "codemirror_mode": {
    "name": "ipython",
    "version": 3
   },
   "file_extension": ".py",
   "mimetype": "text/x-python",
   "name": "python",
   "nbconvert_exporter": "python",
   "pygments_lexer": "ipython3",
   "version": "3.7.0"
  },
  "toc": {
   "base_numbering": 1,
   "nav_menu": {
    "height": "95px",
    "width": "264px"
   },
   "number_sections": true,
   "sideBar": true,
   "skip_h1_title": false,
   "title_cell": "Table of Contents",
   "title_sidebar": "Contents",
   "toc_cell": false,
   "toc_position": {
    "height": "calc(100% - 180px)",
    "left": "10px",
    "top": "150px",
    "width": "307.2px"
   },
   "toc_section_display": true,
   "toc_window_display": true
  }
 },
 "nbformat": 4,
 "nbformat_minor": 2
}
