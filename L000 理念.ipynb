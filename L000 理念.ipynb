{
 "cells": [
  {
   "cell_type": "markdown",
   "metadata": {},
   "source": [
    "## 翻转课堂\n",
    "\n",
    "\n",
    "翻转课堂译自“Flipped Classroom”或“Inverted Classroom”，也可译为“颠倒课堂”，是指重新调整课堂内外的时间，将学习的决定权从教师转移给学生。在这种教学模式下，课堂内的宝贵时间，学生能够更专注于主动的基于项目的学习，共同研究解决本地化或全球化的挑战以及其他现实世界面临的问题，从而获得更深层次的理解。教师不再占用课堂的时间来讲授信息，这些信息需要学生在课前完成自主学习，他们可以看视频讲座、听播客、阅读功能增强的电子书，还能在网络上与别的同学讨论，能在任何时候去查阅需要的材料。\n"
   ]
  },
  {
   "cell_type": "markdown",
   "metadata": {},
   "source": [
    "翻转课堂译自“Flipped Classroom”或“Inverted Classroom”，也可译为“颠倒课堂”，是指重新调整课堂内外的时间，将学习的决定权从教师转移给学生。在这种教学模式下，课堂内的宝贵时间，学生能够更专注于主动的基于项目的学习，共同研究解决本地化或全球化的挑战以及其他现实世界面临的问题，从而获得更深层次的理解。教师不再占用课堂的时间来讲授信息，这些信息需要学生在课前完成自主学习，他们可以看视频讲座、听播客、阅读功能增强的电子书，还能在网络上与别的同学讨论，能在任何时候去查阅需要的材料。国内外都有许多人在做不同的摸索，线下的有中小学+培训学校，大学职业培训，这些课程设计类似却有自己的特点"
   ]
  }
 ],
 "metadata": {
  "kernelspec": {
   "display_name": "Python 3",
   "language": "python",
   "name": "python3"
  },
  "language_info": {
   "codemirror_mode": {
    "name": "ipython",
    "version": 3
   },
   "file_extension": ".py",
   "mimetype": "text/x-python",
   "name": "python",
   "nbconvert_exporter": "python",
   "pygments_lexer": "ipython3",
   "version": "3.7.0"
  },
  "toc": {
   "base_numbering": 1,
   "nav_menu": {},
   "number_sections": true,
   "sideBar": true,
   "skip_h1_title": false,
   "title_cell": "Table of Contents",
   "title_sidebar": "Contents",
   "toc_cell": false,
   "toc_position": {},
   "toc_section_display": true,
   "toc_window_display": false
  }
 },
 "nbformat": 4,
 "nbformat_minor": 2
}
